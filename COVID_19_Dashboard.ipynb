{
 "cells": [
  {
   "cell_type": "markdown",
   "metadata": {},
   "source": [
    "# Covid-19 Dashboard"
   ]
  },
  {
   "cell_type": "markdown",
   "metadata": {},
   "source": [
    "The following is a simple dashboard that will be displayed using the [voila](https://voila.readthedocs.io/en/stable/index.html) Python dashboarding tool that converts notebooks to standalone dashboards. The ```voila``` package must be installed using *pip* or *conda* in order to run the dashboard.\n",
    "\n",
    "The dashboard downloads and displays Covid-19 data from the Public Health England (PHE) website https://coronavirus.data.gov.uk."
   ]
  },
  {
   "cell_type": "code",
   "execution_count": 31,
   "metadata": {},
   "outputs": [],
   "source": [
    "import ipywidgets as wdg\n",
    "import pandas as pd\n",
    "import numpy as np\n",
    "import matplotlib.pyplot as plt\n",
    "import json\n",
    "from datetime import datetime\n",
    "from uk_covid19 import Cov19API"
   ]
  },
  {
   "cell_type": "code",
   "execution_count": 32,
   "metadata": {},
   "outputs": [],
   "source": [
    "# an iPython  \"magic\" that enables the embedding of matplotlib output\n",
    "%matplotlib inline\n",
    "# make figures larger\n",
    "plt.rcParams['figure.dpi'] = 100"
   ]
  },
  {
   "cell_type": "code",
   "execution_count": 33,
   "metadata": {},
   "outputs": [],
   "source": [
    "# Load JSON files and store the raw data in some variable. Edit as appropriate\n",
    "with open(\"tests_ts.json\", \"rt\") as INFILE:\n",
    "    init_data = json.load(INFILE)"
   ]
  },
  {
   "cell_type": "code",
   "execution_count": 34,
   "metadata": {},
   "outputs": [],
   "source": [
    "def parse_date(datestring):\n",
    "        \"\"\" Convert a date string into a pandas datetime object \"\"\"\n",
    "        return pd.to_datetime(datestring, format=\"%Y-%m-%d\")\n",
    "\n",
    "def wrangle_data(data):\n",
    "    '''Takes raw JSON data and wrangles it into a dataframe'''\n",
    "    # Putting the wrangling code into a function allows us to call it again after refreshing the data through \n",
    "    # the API.\n",
    "\n",
    "    # Separates out the data from its container    \n",
    "    datalist = data['data']\n",
    "\n",
    "    # Extracts the dates and sort alphabetically\n",
    "    dates=[dictionary['date'] for dictionary in datalist]\n",
    "    dates.sort()\n",
    "\n",
    "    # Finds the start and end dates of the data. parse_date converts dates to pandas format\n",
    "    startdate = parse_date(dates[0])\n",
    "    enddate = parse_date(dates[-1])\n",
    "\n",
    "    # The date range becomes the index for the data frame, this fills in any missing dates\n",
    "    # The data frame is then created using the index and the column names\n",
    "    index = pd.date_range(startdate, enddate, freq = 'D')\n",
    "    tests_df = pd.DataFrame(index = index, columns = ['cases', 'tests', 'testCap'])\n",
    "\n",
    "    # Adding data to the data frame\n",
    "    # Each entry is a dictionary with date, cases, tests, and testCap\n",
    "    for entry in datalist: \n",
    "        date = parse_date(entry['date'])\n",
    "        for column in ['cases', 'tests', 'testCap']:\n",
    "            # Checks that nothing is there yet - just in case some dates are duplicated\n",
    "            if pd.isna(tests_df.loc[date, column]): \n",
    "                # replace None with 0 in our data \n",
    "                value = float(entry[column]) if entry[column] != None else 0.0\n",
    "                # .loc is used to access each location in the dataframe\n",
    "                tests_df.loc[date, column] = value\n",
    "\n",
    "    # .fillna is used to fill in any remaining gaps in data caused by missing dates\n",
    "    tests_df.fillna(0.0, inplace=True)      \n",
    "    \n",
    "    return tests_df\n",
    "\n",
    "# The wrangle function is called directly on the JSON data when the dashboard starts\n",
    "tests_df = wrangle_data(init_data) # tests_df is the dataframe for plotting"
   ]
  },
  {
   "cell_type": "markdown",
   "metadata": {},
   "source": [
    "## Development\n",
    "\n",
    "This dashboard includes \"canned\" data in a ```.json``` file that is loaded upon starting the dashboard. This raw data is wrangled into a ```DataFrame``` that is then used for plotting. \n",
    "\n",
    "The dataset can be \"refreshed\" in order to update the DataFrame with up-to-date data. The Refresh button below will:\n",
    "* Call the code that accesses the Public Health England API and download some fresh raw data.\n",
    "* Wrangle that data into a dataframe and update the DataFrame for plotting.\n",
    "* Force a redraw of the graph and indicate when the data was last updated.\n",
    "* Alert the user if API access is unavailable.\n",
    "\n",
    "The graph below features interactive controls that allow the user select which variables they wish to display on the graph. Ctrl-clicking allows multiple values to be displayed for comparison. Radio buttons allow the user to switch betweeen linear and logarithmic representation.\n",
    "\n",
    "## Comparison of Cases, Tests, and Planned Test Capacity per Day Across the UK\n",
    "\n",
    "* **Cases** refers to the number of ```new cases by publish date```.\n",
    "* **Tests** refers to the number of ```new tests by publish date```.\n",
    "* **TestCap** refers to the ```planned test capacity by publish date```.\n",
    "\n",
    "The latest data can be seen by refreshing the data using the button below.\n",
    "\n",
    "The graph clearly shows the intial spike in cases that occurred in March before the initial national lockdown, and the second rise that occurred in October. The number of cases can be seen to drop off towards the end of November, likely as a result of the reinstated lockdown measures. One particular point of note is the short dip and subsequent spike in cases at the end of September and Beginning of October. This could well be related to a PHE technical issue that resulted in cases between 25 September and 2 October not being included in the reported daily COVID-19 figures.\n",
    "\n",
    "The graph shows that the number of tests has risen steadlily since March, and this increased testing will have contributed to the higher number of confirmed cases nationwide that is seen in the second spike. While the number of tests has risen, the number of tests can be seen to have consistently fallen short of the planned test capacity. The number of new tests fluctuates throughout each week due to the way the numbers are published, but, as of the end of November, it appears as though the number of daily tests is beginning to plateau.  "
   ]
  },
  {
   "cell_type": "code",
   "execution_count": 35,
   "metadata": {},
   "outputs": [],
   "source": [
    "# API access code will be called by the button_callback function\n",
    "def access_api():\n",
    "    \"\"\" Accesses the PHE API. Returns raw data in the same format as data loaded from the \"canned\" JSON file. \"\"\"\n",
    "    filters = [\n",
    "    'areaType=overview'\n",
    "    ]\n",
    "\n",
    "    # These are the PHE metrics we wish to plot\n",
    "    structure = {\n",
    "        \"date\": \"date\",\n",
    "        \"cases\": \"newCasesByPublishDate\",\n",
    "        \"tests\": \"newTestsByPublishDate\",\n",
    "        \"testCap\": \"plannedCapacityByPublishDate\"\n",
    "    }\n",
    "\n",
    "    api = Cov19API(filters = filters, structure=structure)\n",
    "\n",
    "    # Calls the server and fetches the data\n",
    "    tests_ts = api.get_json()\n",
    "\n",
    "    # Saves the time series in a JSON file\n",
    "    #with open(\"tests_ts.json\", \"wt\") as OUTF:\n",
    "        #json.dump(tests_ts, OUTF)\n",
    "        \n",
    "    return tests_ts # return data read from the API"
   ]
  },
  {
   "cell_type": "code",
   "execution_count": 36,
   "metadata": {},
   "outputs": [
    {
     "data": {
      "application/vnd.jupyter.widget-view+json": {
       "model_id": "20590b76d4074591968f977de88ae95f",
       "version_major": 2,
       "version_minor": 0
      },
      "text/plain": [
       "Button(button_style='info', description='Refresh data', icon='download', style=ButtonStyle(), tooltip='Click t…"
      ]
     },
     "metadata": {},
     "output_type": "display_data"
    },
    {
     "data": {
      "application/vnd.jupyter.widget-view+json": {
       "model_id": "378d2e4b8e9445caa9c4f16328076ff4",
       "version_major": 2,
       "version_minor": 0
      },
      "text/plain": [
       "Output()"
      ]
     },
     "metadata": {},
     "output_type": "display_data"
    }
   ],
   "source": [
    "def api_button_callback(button):\n",
    "    \"\"\" Button callback - Accesses API, wrangles data, updates global variable df \n",
    "    used for plotting, outputs the refresh time, or an error message if unsuccessful\"\"\"\n",
    "    # Fetches fresh data from the PHE API\n",
    "    try:\n",
    "        apidata = access_api()\n",
    "        # Wrangle the data and overwrite the dataframe for plotting\n",
    "        global tests_df\n",
    "        tests_df = wrangle_data(apidata)\n",
    "\n",
    "        # The graph won't refresh until the user interacts with the widget \n",
    "        # This function simulates the interaction, by flipping the scale value back and forth\n",
    "        refresh_graph()\n",
    "\n",
    "        # The button icon changes to \"check\" sign to indicate that the data has been refreshed\n",
    "        apibutton.icon = \"check\"\n",
    "        # Button can be disabled to prevent repeated calls to the API\n",
    "        # apibutton.disabled = True\n",
    "\n",
    "        # Prints the date and time of the last data refresh\n",
    "        # output widget is cleared before outputting the formatted datetime\n",
    "        now = datetime.now()\n",
    "        date_time = now.strftime(\"%m/%d/%Y, %H:%M:%S\")\n",
    "        with out:\n",
    "            out.clear_output()\n",
    "            print(\"Data last refreshed at:\", date_time)\n",
    "    \n",
    "    # If the data refresh fails, output to the user to avoid the dashboard crashing\n",
    "    except:\n",
    "        with out:\n",
    "            out.clear_output()\n",
    "            print(\"Data Refresh Failed; Public Health England API may be unavailable\")\n",
    "        \n",
    "# Creates the button widget\n",
    "apibutton = wdg.Button(\n",
    "    description = 'Refresh data',\n",
    "    disabled = False,\n",
    "    button_style = 'info', # 'success', 'info', 'warning', 'danger' or ''\n",
    "    tooltip = 'Click to download current Public Health England data',\n",
    "    icon = 'download' # (FontAwesome names without the `fa-` prefix)\n",
    ")\n",
    "\n",
    "\n",
    "# Registers the callback function with the button and displays it\n",
    "apibutton.on_click(api_button_callback)\n",
    "\n",
    "display(apibutton)\n",
    "\n",
    "# This is an output widget to display the last refresh time to the user\n",
    "out = wdg.Output()\n",
    "display(out)"
   ]
  },
  {
   "cell_type": "code",
   "execution_count": 37,
   "metadata": {},
   "outputs": [
    {
     "data": {
      "application/vnd.jupyter.widget-view+json": {
       "model_id": "6c293b539b724fe6af3bdbba13a5d7f0",
       "version_major": 2,
       "version_minor": 0
      },
      "text/plain": [
       "HBox(children=(SelectMultiple(description='Stats:', index=(0, 1, 2), options=('cases', 'tests', 'testCap'), ro…"
      ]
     },
     "metadata": {},
     "output_type": "display_data"
    },
    {
     "data": {
      "application/vnd.jupyter.widget-view+json": {
       "model_id": "46eef44a27d242d98db228a441111343",
       "version_major": 2,
       "version_minor": 0
      },
      "text/plain": [
       "Output()"
      ]
     },
     "metadata": {},
     "output_type": "display_data"
    }
   ],
   "source": [
    "# Creates controls for displaying different data\n",
    "series = wdg.SelectMultiple(\n",
    "    options = ['cases', 'tests', 'testCap'],\n",
    "    value = ['cases', 'tests', 'testCap'],\n",
    "    rows = 3,\n",
    "    description = 'Stats:',\n",
    "    disabled = False\n",
    ")\n",
    "\n",
    "# Creates controls for changing the graph scale\n",
    "scale = wdg.RadioButtons(\n",
    "    options = ['linear', 'log'],\n",
    "    value = 'linear', # Defaults to 'linear'\n",
    "#   layout={'width': 'max-content'}, # If the items' names are long\n",
    "    description = 'Scale:',\n",
    "    disabled = False\n",
    ")\n",
    "\n",
    "# Creates a container for the controls\n",
    "controls = wdg.HBox([series, scale])\n",
    "\n",
    "def timeseries_graph(gcols, gscale):\n",
    "    if gscale == 'linear':\n",
    "        logscale = False\n",
    "    else:\n",
    "        logscale = True\n",
    "    ncols = len(gcols)\n",
    "    if ncols > 0:\n",
    "        tests_df[list(gcols)].plot(logy = logscale)\n",
    "    else:\n",
    "        print(\"Click to select data for graph\")\n",
    "        print(\"(CTRL-Click to select more than one category)\")\n",
    "        \n",
    "# This function changes the scale value back and forth to force the interactive graph to be redrawn\n",
    "def refresh_graph():\n",
    "    \"\"\" We change the value of the widget in order to force a redraw of the graph;\n",
    "    used when the data has been updated\"\"\"\n",
    "    current = scale.value\n",
    "    if current == scale.options[0]:\n",
    "        other = scale.options[1]\n",
    "    else:\n",
    "        other = scale.options[0]\n",
    "    scale.value = other # changes the value to force a redraw\n",
    "    scale.value = current # this changes it straight back\n",
    "\n",
    "# keep calling timeseries_graph(gcols=value_of_series, gscale=value_of_scale); capture output in variable graph   \n",
    "graph = wdg.interactive_output(timeseries_graph, {'gcols': series, 'gscale': scale})\n",
    "\n",
    "display(controls, graph)"
   ]
  },
  {
   "cell_type": "markdown",
   "metadata": {},
   "source": [
    "*Copyright &copy; 2020, Joseph Cook (joe.ri.cook@outlook.com). All Rights Reserved.* <br/>\n",
    "*Based on UK Government [data](https://coronavirus.data.gov.uk/) published by [Public Health England](https://www.gov.uk/government/organisations/public-health-england).*"
   ]
  }
 ],
 "metadata": {
  "kernelspec": {
   "display_name": "Python 3",
   "language": "python",
   "name": "python3"
  },
  "language_info": {
   "codemirror_mode": {
    "name": "ipython",
    "version": 3
   },
   "file_extension": ".py",
   "mimetype": "text/x-python",
   "name": "python",
   "nbconvert_exporter": "python",
   "pygments_lexer": "ipython3",
   "version": "3.8.3"
  }
 },
 "nbformat": 4,
 "nbformat_minor": 4
}
